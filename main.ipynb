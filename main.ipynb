{
 "cells": [
  {
   "cell_type": "markdown",
   "metadata": {},
   "source": [
    "# Chatbot based on internal data (PDFs)\n",
    "\n",
    "Steps:\n",
    "1. Reading the PDFs and WebPages\n",
    "2. Chunk the PDFs and Webpages\n",
    "3. Create vector embeddings from the PDFs and Webpages\n",
    "4. Add to Pinecode Vector DB\n",
    "5. Create a chatbot that queries from Pincone to implement RAG architecture"
   ]
  },
  {
   "cell_type": "markdown",
   "metadata": {},
   "source": [
    "### Import Libraries\n",
    "\n",
    "Load all the necessary modules and libraries. \n",
    "\n",
    "If not present, add them to requirements.txt and run python -m requirements.txt on the terminal"
   ]
  },
  {
   "cell_type": "code",
   "execution_count": 627,
   "metadata": {},
   "outputs": [],
   "source": [
    "import os\n",
    "from langchain.document_loaders import PyPDFDirectoryLoader, PyPDFLoader, AsyncHtmlLoader\n",
    "from langchain_community.document_transformers import Html2TextTransformer\n",
    "from langchain.text_splitter import RecursiveCharacterTextSplitter\n",
    "from langchain_cohere import CohereEmbeddings"
   ]
  },
  {
   "cell_type": "markdown",
   "metadata": {},
   "source": [
    "Load the necessary environment variables which will contain the API Key"
   ]
  },
  {
   "cell_type": "code",
   "execution_count": 628,
   "metadata": {},
   "outputs": [
    {
     "data": {
      "text/plain": [
       "False"
      ]
     },
     "execution_count": 628,
     "metadata": {},
     "output_type": "execute_result"
    }
   ],
   "source": [
    "from dotenv import load_dotenv\n",
    "load_dotenv()"
   ]
  },
  {
   "cell_type": "markdown",
   "metadata": {},
   "source": [
    "### Reading the PDF and Webpages\n",
    "\n",
    "Create a function that is used to read PDFs in a given folder using document loaders.\n",
    "\n",
    "https://python.langchain.com/docs/modules/data_connection/document_loaders/pdf"
   ]
  },
  {
   "cell_type": "code",
   "execution_count": 629,
   "metadata": {},
   "outputs": [],
   "source": [
    "def read_pdfs(folder):\n",
    "    file_loader = PyPDFDirectoryLoader(folder)\n",
    "    pdfs = file_loader.load()\n",
    "    return pdfs\n",
    "    "
   ]
  },
  {
   "cell_type": "code",
   "execution_count": 630,
   "metadata": {},
   "outputs": [
    {
     "name": "stdout",
     "output_type": "stream",
     "text": [
      "Number of pages: 21\n"
     ]
    },
    {
     "data": {
      "text/plain": [
       "[Document(metadata={'producer': 'madbuild', 'creator': 'PyPDF', 'creationdate': '2024-10-21T10:38:45-05:00', 'moddate': '2024-10-21T10:38:45-05:00', 'title': 'WFM Adapter for Genesys Cloud - Product Overview Guide', 'author': '', 'subject': '', 'keywords': '', 'source': 'data\\\\WFM\\\\GC\\\\WFMAdapter_GCProductOverview.pdf', 'total_pages': 21, 'page': 0, 'page_label': '1'}, page_content='WFMAdapter\\nProductOverviewGuide\\nContactcenter:GenesysCloud\\nPublishdate:October21,2024'),\n",
       " Document(metadata={'producer': 'madbuild', 'creator': 'PyPDF', 'creationdate': '2024-10-21T10:38:45-05:00', 'moddate': '2024-10-21T10:38:45-05:00', 'title': 'WFM Adapter for Genesys Cloud - Product Overview Guide', 'author': '', 'subject': '', 'keywords': '', 'source': 'data\\\\WFM\\\\GC\\\\WFMAdapter_GCProductOverview.pdf', 'total_pages': 21, 'page': 1, 'page_label': '2'}, page_content='Contents\\n1AboutWFMAdapter 3\\n1.1SupportedWFMsystems 3\\n1.2Supportedmediachannels 3\\n1.3WFMAdapterAWSregions 4\\n1.4Supportedsinglesign-onproviders 4\\n2WFMAdapterrequirements 5\\n2.1Browser 5\\n2.2Reportingclientserver 5\\n2.3Reportstorage 5\\n2.4Bandwidth 6\\n3GenesysCloudspecifications 7\\n3.1GenesysCloudrequirements 7\\n3.2GenesysCloudAPIusage 7\\n4Setupoverview 8\\n4.1Dataflowoverview 8\\n4.1.1AllpremiseWFM 9\\n4.1.2AlvariaVIA 10\\n4.1.3CalabrioONE 10\\n4.1.4NICECloud 11\\n4.1.5VerintCloud 12\\n4.2Networkconfiguration 12\\n4.2.1Architecturediagrams 13\\n4.2.2WFMAdapterURLstoallow 18\\n4.2.3WFMAdapterIPstoallow 18\\n4.2.4Reportingclientserverports 19\\n5Releaseprocess 20\\n6Frequentlyaskedquestions 21\\n6.1Howistheconcurrentornamedusagecalculated? 21\\n6.2Doesthereportingclientsupportconnectingthroughaproxy? 21\\n6.3HowdoesWFMAdapterblendRTAfeedsfrommultiplesystems? 21\\nWFMAdapter-ProductOverviewGuideforGenesysCloud\\n2'),\n",
       " Document(metadata={'producer': 'madbuild', 'creator': 'PyPDF', 'creationdate': '2024-10-21T10:38:45-05:00', 'moddate': '2024-10-21T10:38:45-05:00', 'title': 'WFM Adapter for Genesys Cloud - Product Overview Guide', 'author': '', 'subject': '', 'keywords': '', 'source': 'data\\\\WFM\\\\GC\\\\WFMAdapter_GCProductOverview.pdf', 'total_pages': 21, 'page': 2, 'page_label': '3'}, page_content=\"1 AboutWFMAdapter\\nTheWFMAdaptercompilesrelevantcallcenterinformationfromyourGenesysCloudenvironmentto\\nprovideyouwithreportsonagentandqueueactivities(historicalfeed)andnearreal-timeagent\\nstatusupdates(RTAfeed)tosupportWFMsystemforecastingandintra-daymanagementprocesses.\\nOptionsareavailabletocustomizewhichdataiscollected,howoften,andhowitisdelivered.\\nImportant:TheappropriateDivisionsandRolesareselectedduringinstallation.\\nl ThedivisionsselecteddefinewhatdatatheWFMAdaptercanaccessviatheWFMAdapterOAuth\\nclientcreatedinGenesysCloud.\\nl Therolesselectedareassignedtheintegration>ariaWFMApps>viewpermission,therebylicensing\\ntheusers.\\nl Groupsandqueuesintheselecteddivisionsmustonlycontainlicensedusers(i.e.,assignedthe\\nidentifiedroleorpermission).\\no UsersmustbelicensedandinaselecteddivisiontoappearinreportsandRTA.\\nl EachGenesysCloudOAuthclientwillmonitoracombinedtotalof20,000licensedagentsand/or\\nqueues.AdditionalOAuthclientsmaybeaddedtocapturedatafromadditionaldivisionstoachieve\\nscalability.ItisrecommendedtoconsultTTECDigitalProfessionalServicesforapprovalbefore\\nproceedingwiththislevelofconfiguration.Whenapproved,amaximumof5OAuthclientcredential\\nsetscanbeconfiguredontheGenesysCloudintegration.Eachextrasetofclientcredentialsallows\\nmonitoringanadditional20000licensedusersandqueues.\\nNote:AdditionalOAuthclientcredentialsmusthaveidenticaldivisionandpermissionassignments.\\nDuringintegrationexecution,it'simportantnottoaltertheOAuthclients,asitmayimpact\\nreporting.\\n1.1SupportedWFMsystems\\nThefollowingWFMsystemsarecompatiblewithWFMAdapter:\\nl AlvariaWFMv8.xtov24\\nl CalabrioONEClassicCloudv11\\nl NICEWFMv4.xtov7.x\\nl VerintSystemsv15.1tov15.2\\n1.2Supportedmediachannels\\nThefollowingmediachannelsaresupportedbytheWFMAdapter:\\nWFMAdapter-ProductOverviewGuideforGenesysCloud\\n3\"),\n",
       " Document(metadata={'producer': 'madbuild', 'creator': 'PyPDF', 'creationdate': '2024-10-21T10:38:45-05:00', 'moddate': '2024-10-21T10:38:45-05:00', 'title': 'WFM Adapter for Genesys Cloud - Product Overview Guide', 'author': '', 'subject': '', 'keywords': '', 'source': 'data\\\\WFM\\\\GC\\\\WFMAdapter_GCProductOverview.pdf', 'total_pages': 21, 'page': 3, 'page_label': '4'}, page_content='l Voice\\nl Chat\\nl Email\\nl Messages\\nl OutboundCampaign\\no Voice\\no Digitalmessaging\\n1.3WFMAdapterAWSregions\\nDataisstoredintheAWSregioncorrespondingtoyourGenesysCloudregion.\\nGenesysCloudregion AWSregion WFMAdapterregion\\nmypurecloud.com.au\\nap-southeast-2 AsiaPacificmypurecloud.jp\\napne2.pure.cloud\\naps1.pure.cloud\\ncac1.pure.cloud ca-central-1 Canada\\nmypurecloud.de\\neu-west-1 Europemypurecloud.ie\\neuw2.pure.cloud\\neuc2.pure.cloud\\nmypurecloud.com\\nus-east-1 NorthAmericausw2.pure.cloud\\nuse2.us-gov-pure.cloud\\n1.4Supportedsinglesign-onproviders\\nWFMAdaptersupportssinglesign-onusingSAML\\xa0authentication.ThefollowingSSO\\xa0providershave\\nbeentestedbyAvtexOperations:\\nl AzureActiveDirectory\\nl PingFederate\\nl PingOne\\nWFMAdapter-ProductOverviewGuideforGenesysCloud\\n4'),\n",
       " Document(metadata={'producer': 'madbuild', 'creator': 'PyPDF', 'creationdate': '2024-10-21T10:38:45-05:00', 'moddate': '2024-10-21T10:38:45-05:00', 'title': 'WFM Adapter for Genesys Cloud - Product Overview Guide', 'author': '', 'subject': '', 'keywords': '', 'source': 'data\\\\WFM\\\\GC\\\\WFMAdapter_GCProductOverview.pdf', 'total_pages': 21, 'page': 4, 'page_label': '5'}, page_content='2WFMAdapterrequirements\\n2.1Browser\\nTheWFMAdapteruserinterfaceisaccessedthroughabrowser.Themostrecentstableversionsfor\\nthefollowingbrowsersarerecommended:\\nl GoogleChrome\\nl MozillaFirefox\\nl MicrosoftEdge\\nNote:MicrosoftInternetExplorerisnotsupported.\\n2.2Reportingclientserver\\nForanypremiseWFM,aservertohostthereportingclientmustbesetup.ForNICEorVerintprivate\\ncloudWFMsystems,customersmustcoordinatewiththeWFMvendortosetupaservertohostthe\\nreportingclient.Theselectedservermustremain\"awake\"atalltimestoensureconnectivity;alaptop\\nwithsleeporpowersavingsfeaturesenabledisnotrecommended.\\nSeeNetworkconfigurationforadditionalinformation.\\nRequirement Description\\nSoftware\\nThereportingclientis.NET8compatible.\\nForoperatingsystemssupportedby.NET8,seehttps://-github.com/dotnet/core/blob/main/release-notes/8.0/supported-os.md.\\nThefollowingoperatingsystemshavebeenofficiallytestedbyTTECDigital.\\nOperatingsystem Version\\nWindows10Client Version22H2\\nUbuntu 22.04LTS\\nHardware Processor:Core2Duo2.66GHzornewerMemory:4GBRAMAvailablediskspace:10GB\\n2.3Reportstorage\\nFromtheuserinterface,thefollowingstorageorfiletransfermethodsareavailableforreports:\\nl afolderlocaltotheinstalledReportingclient\\nl FTP\\nl SFTP\\nl AmazonS3bucket\\nl WebDAV\\nWFMAdapter-ProductOverviewGuideforGenesysCloud\\n5'),\n",
       " Document(metadata={'producer': 'madbuild', 'creator': 'PyPDF', 'creationdate': '2024-10-21T10:38:45-05:00', 'moddate': '2024-10-21T10:38:45-05:00', 'title': 'WFM Adapter for Genesys Cloud - Product Overview Guide', 'author': '', 'subject': '', 'keywords': '', 'source': 'data\\\\WFM\\\\GC\\\\WFMAdapter_GCProductOverview.pdf', 'total_pages': 21, 'page': 5, 'page_label': '6'}, page_content='Note:AspectVIAonlyusesWebDAV.\\n2.4Bandwidth\\nBandwidthrequirementsvarygreatlybasedonsizeoforganization,numberofusers,andqueues\\nactivelyreported.\\nl Real-timeadherencefeed(RTA):upto0.33MB/s\\nl Historicalreporting:upto100MB/hr\\nWFMAdapter-ProductOverviewGuideforGenesysCloud\\n6'),\n",
       " Document(metadata={'producer': 'madbuild', 'creator': 'PyPDF', 'creationdate': '2024-10-21T10:38:45-05:00', 'moddate': '2024-10-21T10:38:45-05:00', 'title': 'WFM Adapter for Genesys Cloud - Product Overview Guide', 'author': '', 'subject': '', 'keywords': '', 'source': 'data\\\\WFM\\\\GC\\\\WFMAdapter_GCProductOverview.pdf', 'total_pages': 21, 'page': 6, 'page_label': '7'}, page_content='3GenesysCloudspecifications\\n3.1GenesysCloudrequirements\\nl AnestablishedGenesysCloudorg.\\nl GenesysCloud1,2,3,orCommunicateuserlicensetype.\\nNote:ThereportingcapabilitiesoftheWFMAdapterarenotdependentontheuserlicensetype.\\nHowever,userswithaCommunicatelicensetypehavelimitedfunctionalityinGenesysCloud,thereby\\nlimitingthedataproducedandsentthroughtheadapter.\\nForinformationonhowtogetstartedwithGenesysCloud,seehttps://www.genesys.com/genesys-\\ncloud.\\n3.2GenesysCloudAPIusage\\nAPIrequestsmadebytheWFMAdaptercounttowardstheAPIrequestallocationinyourGenesys\\nCloudsubscriptionplan.\\nExample:\\nAcustomerwith6000namedor3500concurrentusershandlingvoice,chats,andemailscouldexpect\\ntogenerateapproximately600,000APIrequestsamonth.Ifthecustomerhasamonthlyallotmentof\\n75,000APIrequestspernameduser,theyarewithintheirmonthlyallotmentof450million.1\\nSeehttps://help.mypurecloud.com/articles/api-on-demand-charge/fortheperuserallotmentfor\\nyourplan.\\n1ThisdoesnottakeintoaccountotherproductsthatmayalsomakeAPIrequests.\\nWFMAdapter-ProductOverviewGuideforGenesysCloud\\n7'),\n",
       " Document(metadata={'producer': 'madbuild', 'creator': 'PyPDF', 'creationdate': '2024-10-21T10:38:45-05:00', 'moddate': '2024-10-21T10:38:45-05:00', 'title': 'WFM Adapter for Genesys Cloud - Product Overview Guide', 'author': '', 'subject': '', 'keywords': '', 'source': 'data\\\\WFM\\\\GC\\\\WFMAdapter_GCProductOverview.pdf', 'total_pages': 21, 'page': 7, 'page_label': '8'}, page_content='4Setupoverview\\nTheWFMAdapterhasthebelowitemstoconfigure:\\n1.GenesysCloudintegrationapp\\nTheintegrationapplicationinstalledinGenesysCloudprovidestheWFMAdapterOAuthclientand\\nrolepermissionstoallowtheWFMAdaptertocapturethedesiredinteractionsfromyourspecified\\ndivisionswithinyourGenesyscontactcenter.\\n2.WFMAdapter\\nTheWFMAdapteriscomprisedofabrowser-baseduserinterfacetoconfigurereportingneedsand\\nanadditionalreportingclientapplicationinstalledlocallytocommunicatewiththeWFMsystem.\\nNote:NotallWFMsystemsrequiretheWFMreportingclienttobeinstalledlocally.\\nScope:ThisisacontainerfortheSourceandDestinationsettingsforeachGenesysCloud\\nenvironment.Youcanaddadditionalscopestomanagemultipleorganizations,suchasproduction\\nandlabenvironments,orCanadaandUSenvironments.\\nl Source:ThisholdstheClientIDandSecretoftheOAuthclientinstalledinGenesysCloud.This\\nconnectiondetermineswhatdatacomesacrossfromyourGenesysCloudenvironment.\\nl Destination:\\xa0Thiscontainsalltheconfigurationforyourreportingneeds.Thedestinationsends\\nreportsandreal-timedatatoyourworkforcemanagementsystem.Multipledestinationsmaybe\\nconfiguredwithinthesamescopetosenddatatomultipleWFMsystems,ifrequired.\\n3.WFMSystem:ConfigurationisrequiredinyourWFMsystemtoconnecttheRTAfeed.\\n4.1Dataflowoverview\\nThefollowingdiagramsprovideahigh-leveloverviewofhowthedataflowsfromGenesysCloud\\nthroughtheWFMAdapter.\\nWFMAdapter-ProductOverviewGuideforGenesysCloud\\n8'),\n",
       " Document(metadata={'producer': 'madbuild', 'creator': 'PyPDF', 'creationdate': '2024-10-21T10:38:45-05:00', 'moddate': '2024-10-21T10:38:45-05:00', 'title': 'WFM Adapter for Genesys Cloud - Product Overview Guide', 'author': '', 'subject': '', 'keywords': '', 'source': 'data\\\\WFM\\\\GC\\\\WFMAdapter_GCProductOverview.pdf', 'total_pages': 21, 'page': 8, 'page_label': '9'}, page_content=\"4.1.1AllpremiseWFM\\nItem Component Description\\n1 WFMAdapterGenesysCloudapp Installedincustomer'sorganization.ThepackagesendsdatafromGenesysCloudtotheWFMAdapterAPI.\\n2 WFMAdapterAPI CollectsinformationfromGenesysCloudandsendsRTAandhistoricalfeedstotheReportingClient.\\n3 WFMAdapterUI ConfigurationUItochangeWFMAdaptersettings.\\n4 WFMAdapterReportingclient\\nSendsRTAstatustotheWFMRTA.\\nSendshistoricalreportstooneormorelocationsspecifiedbythecustomer.\\nNote:CustomersmustsetupaservertohosttheReportingClient.\\n5 WFMRTA ReceivesandprocessesRTAstates.\\n6a Localfolder ReportscanbesenttoafolderlocaltotheinstalledReportingclient.\\n6b WebDAV,FTPS,S3,SFTP ReportscanbesenttoaWebDAVserver,AmazonS3bucket,FTPSserver,and/orSFTPserver.\\n7 WFMHistorical Receivesandprocessesreports.\\nWFMAdapter-ProductOverviewGuideforGenesysCloud\\n9\"),\n",
       " Document(metadata={'producer': 'madbuild', 'creator': 'PyPDF', 'creationdate': '2024-10-21T10:38:45-05:00', 'moddate': '2024-10-21T10:38:45-05:00', 'title': 'WFM Adapter for Genesys Cloud - Product Overview Guide', 'author': '', 'subject': '', 'keywords': '', 'source': 'data\\\\WFM\\\\GC\\\\WFMAdapter_GCProductOverview.pdf', 'total_pages': 21, 'page': 9, 'page_label': '10'}, page_content=\"4.1.2AlvariaVIA\\nItem Component Description\\n1 WFMAdapterGenesysCloudapp Installedincustomer'sorganization.ThepackagesendsdatafromGenesysCloudtotheWFMAdapterAPI.\\n2 WFMAdapterAPI CollectsinformationfromGenesysCloudandsendsRTAandhistoricalfeedstotheReportingClient.\\n3 WFMAdapterUI ConfigurationUItochangeWFMAdaptersettings.\\n4 WFMAdapterReportingclient\\nSendsRTAstatustotheWFMRTA.\\nSendshistoricalreportstooneormorelocationsspecifiedbythecustomer.\\nNote:TTEChoststhereportingclientinthecloud.\\n5 AlvariaVIARTA ReceivesandprocessesRTAstates.\\n6 WebDAV ReportssenttoaWebDAVserver.\\n7 AlvariaVIAHistorical Receivesandprocessesreports.\\n4.1.3CalabrioONE\\nWFMAdapter-ProductOverviewGuideforGenesysCloud\\n10\"),\n",
       " Document(metadata={'producer': 'madbuild', 'creator': 'PyPDF', 'creationdate': '2024-10-21T10:38:45-05:00', 'moddate': '2024-10-21T10:38:45-05:00', 'title': 'WFM Adapter for Genesys Cloud - Product Overview Guide', 'author': '', 'subject': '', 'keywords': '', 'source': 'data\\\\WFM\\\\GC\\\\WFMAdapter_GCProductOverview.pdf', 'total_pages': 21, 'page': 10, 'page_label': '11'}, page_content=\"Item Component Description\\n1 WFMAdapterGenesysCloudapp Installedincustomer'sorganization.ThepackagesendsdatafromGenesysCloudtotheWFMAdapterAPI.\\n2 WFMAdapterAPI CollectsinformationfromGenesysCloudandsendsRTAandhistoricalfeedstotheReportingClient.\\n3 WFMAdapterUI ConfigurationUItochangeWFMAdaptersettings.\\n4 WFMAdapterReportingclient\\nSendsRTAstatustotheWFMRTA.\\nSendshistoricalreportstooneormorelocationsspecifiedbythecustomer.\\nNote:TTEChoststhereportingclientinthecloud.\\n5 CalabrioONERTA ReceivesandprocessesRTAstates.\\n6 CalabrioONEHistorical Receivesandprocessesreports.\\n4.1.4NICECloud\\nItem Component Description\\n1 WFMAdapterGenesysCloudapp Installedincustomer'sorganization.ThepackagesendsdatafromGenesysCloudtotheWFMAdapterAPI.\\n2 WFMAdapterAPI CollectsinformationfromGenesysCloudandsendsRTAandhistoricalfeedstotheReportingClient.\\n3 WFMAdapterUI ConfigurationUItochangeWFMAdaptersettings.\\n4 WFMAdapterReportingclient\\nSendsRTAstatustotheWFMRTA.\\nSendshistoricalreportstooneormorelocationsspecifiedbythecustomer.\\nNote:TTEChoststhereportingclientinthecloud.\\n5 NICECloudRTA ReceivesandprocessesRTAstates.\\n6 SFTP ReportssenttoaSFTPserver.\\n7 NICE\\xa0CloudHistorical Receivesandprocessesreports.\\nWFMAdapter-ProductOverviewGuideforGenesysCloud\\n11\"),\n",
       " Document(metadata={'producer': 'madbuild', 'creator': 'PyPDF', 'creationdate': '2024-10-21T10:38:45-05:00', 'moddate': '2024-10-21T10:38:45-05:00', 'title': 'WFM Adapter for Genesys Cloud - Product Overview Guide', 'author': '', 'subject': '', 'keywords': '', 'source': 'data\\\\WFM\\\\GC\\\\WFMAdapter_GCProductOverview.pdf', 'total_pages': 21, 'page': 11, 'page_label': '12'}, page_content=\"4.1.5VerintCloud\\nItem Component Description\\n1 WFMAdapterGenesysCloudapp Installedincustomer'sorganization.ThepackagesendsdatafromGenesysCloudtotheWFMAdapterAPI.\\n2 WFMAdapterAPI CollectsinformationfromGenesysCloudandsendsRTAandhistoricalfeedstotheReportingClient.\\n3 WFMAdapterUI ConfigurationUItochangeWFMAdaptersettings.\\n4 WFMAdapterReportingclient\\nSendsRTAstatustotheWFMRTA.\\nSendshistoricalreportstooneormorelocationsspecifiedbythecustomer.\\nNote:CustomersmustcoordinatewiththeWFMvendortosetupaservertohostthereportingclient.\\n5 WFMRTA ReceivesandprocessesRTAstates.\\n6a Localfolder ReportscanbesenttoafolderlocaltotheinstalledReportingclient.\\n6b WebDAV,FTPS,S3,SFTP ReportscanbesenttoaWebDAVserver,AmazonS3bucket,FTPSserver,and/orSFTPserver.\\n7 WFMHistorical Receivesandprocessesreports.\\n4.2Networkconfiguration\\nSetupoftheadapterisdependentontheWFMsysteminuse.Followtheprovidedarchitecture\\ndiagramforyourenvironmenttoidentifythecomponentsthatrequirefirewallaccess.RefertoWFM\\nAdapterURLstoallowandReportingclientserverportsforadditionaldetail.\\nWFMAdapter-ProductOverviewGuideforGenesysCloud\\n12\"),\n",
       " Document(metadata={'producer': 'madbuild', 'creator': 'PyPDF', 'creationdate': '2024-10-21T10:38:45-05:00', 'moddate': '2024-10-21T10:38:45-05:00', 'title': 'WFM Adapter for Genesys Cloud - Product Overview Guide', 'author': '', 'subject': '', 'keywords': '', 'source': 'data\\\\WFM\\\\GC\\\\WFMAdapter_GCProductOverview.pdf', 'total_pages': 21, 'page': 12, 'page_label': '13'}, page_content='4.2.1Architecturediagrams\\nAlvariapremise\\nItem Component Description\\n1 WFMAdapterwebuserinterface AccessestheWFMAdapterwebresourcefilestoconfigureadaptersettings.\\n2 WFMAdapterAPI CollectsinformationfromGenesysCloudandsendsRTAandhistoricalfeedstotheReportingClient.\\n3 WFMAdapterGenesysCloudapp ThepackagesendsdatafromGenesysCloudtotheWFMAdapterAPI.\\n4 WFMAdapterReportingclient\\nSendsRTAstatustotheWFMRTA.\\nSendshistoricalreportstooneormorelocationsspecifiedbythecustomer(items6-10).\\n5 WFMRTA ReceivesandprocessesRTAstates.\\n6 Localfolder (Optional)ReportscanbesenttoafolderlocaltotheinstalledReportingclient.\\n7 FTP (Optional)HistoricalReportscanbesenttoanFTPserver.\\n8 FTPS (Optional)HistoricalReportscanbesenttoanFTPSserver.\\n9 AmazonS3 (Optional)HistoricalReportscanbesenttoanAmazonS3bucket.\\n10 SFTP (Optional)HistoricalReportscanbesenttoanSFTPserver.\\n11 WebDAV (Optional)HistoricalReportscanbesenttoaWebDAVserver.\\n12 WFMHistorical Configuredasrequiredtoretrievereportsfromtheavailableoutputs.\\nWFMAdapter-ProductOverviewGuideforGenesysCloud\\n13'),\n",
       " Document(metadata={'producer': 'madbuild', 'creator': 'PyPDF', 'creationdate': '2024-10-21T10:38:45-05:00', 'moddate': '2024-10-21T10:38:45-05:00', 'title': 'WFM Adapter for Genesys Cloud - Product Overview Guide', 'author': '', 'subject': '', 'keywords': '', 'source': 'data\\\\WFM\\\\GC\\\\WFMAdapter_GCProductOverview.pdf', 'total_pages': 21, 'page': 13, 'page_label': '14'}, page_content='AlvariaVIA\\nItem Component Description\\n1 WFMAdapterwebuserinterface AccessestheWFMAdapterwebresourcefilestoconfigureadaptersettings.\\n2 WFMAdapterAPI CollectsinformationfromGenesysCloudandsendsRTAandhistoricalfeedstotheReportingClient.\\n3 WFMAdapterGenesysCloudapp ThepackagesendsdatafromGenesysCloudtotheWFMAdapterAPI.\\n4 WFMAdapterReportingclient SendsRTAstatustotheWFMRTA.\\nSendshistoricalreportstoWebDAVserver.\\nCalabrioONE\\nItem Component Description\\n1 WFMAdapterwebuserinterface AccessestheWFMAdapterwebresourcefilestoconfigureadaptersettings.\\n2 WFMAdapterAPI CollectsinformationfromGenesysCloudandsendsRTAandhistoricalfeedstotheReportingClient.\\n3 WFMAdapterGenesysCloudappTalkdeskapp ThepackagesendsdatafromGenesysCloudtotheWFMAdapterAPI.\\n4 WFMAdapterReportingclient SendsRTAstatustotheWFMRTA.\\nSendshistoricalreportstoCalabrioONEenvironment.\\nWFMAdapter-ProductOverviewGuideforGenesysCloud\\n14'),\n",
       " Document(metadata={'producer': 'madbuild', 'creator': 'PyPDF', 'creationdate': '2024-10-21T10:38:45-05:00', 'moddate': '2024-10-21T10:38:45-05:00', 'title': 'WFM Adapter for Genesys Cloud - Product Overview Guide', 'author': '', 'subject': '', 'keywords': '', 'source': 'data\\\\WFM\\\\GC\\\\WFMAdapter_GCProductOverview.pdf', 'total_pages': 21, 'page': 14, 'page_label': '15'}, page_content='NICEpremise\\nItem Component Description\\n1 WFMAdapterwebuserinterface AccessestheWFMAdapterwebresourcefilestoconfigureadaptersettings.\\n2 WFMAdapterAPI CollectsinformationfromGenesysCloudandsendsRTAandhistoricalfeedstotheReportingClient.\\n3 WFMAdapterGenesysCloudapp ThepackagesendsdatafromGenesysCloudtotheWFMAdapterAPI.\\n4 WFMAdapterReportingclient\\nSendsRTAstatustotheWFMRTA.\\nSendshistoricalreportstooneormorelocationsspecifiedbythecustomer(items6-10).\\n5 WFMRTA ReceivesandprocessesRTAstates.\\n6 Localfolder (Optional)ReportscanbesenttoafolderlocaltotheinstalledReportingclient.\\n7 FTP (Optional)HistoricalReportscanbesenttoanFTPserver.\\n8 FTPS (Optional)HistoricalReportscanbesenttoanFTPSserver.\\n9 AmazonS3 (Optional)HistoricalReportscanbesenttoanAmazonS3bucket.\\n10 SFTP (Optional)HistoricalReportscanbesenttoanSFTPserver.\\n11 WebDAV (Optional)HistoricalReportscanbesenttoaWebDAVserver.\\n12 WFMHistorical Configuredasrequiredtoretrievereportsfromtheavailableoutputs.\\nWFMAdapter-ProductOverviewGuideforGenesysCloud\\n15'),\n",
       " Document(metadata={'producer': 'madbuild', 'creator': 'PyPDF', 'creationdate': '2024-10-21T10:38:45-05:00', 'moddate': '2024-10-21T10:38:45-05:00', 'title': 'WFM Adapter for Genesys Cloud - Product Overview Guide', 'author': '', 'subject': '', 'keywords': '', 'source': 'data\\\\WFM\\\\GC\\\\WFMAdapter_GCProductOverview.pdf', 'total_pages': 21, 'page': 15, 'page_label': '16'}, page_content='NICECloud\\nItem Component Description\\n1 WFMAdapterwebuserinterface AccessestheWFMAdapterwebresourcefilestoconfigureadaptersettings.\\n2 WFMAdapterAPI CollectsinformationfromGenesysCloudandsendsRTAandhistoricalfeedstotheReportingClient.\\n3 WFMAdapterGenesysCloudapp ThepackagesendsdatafromGenesysCloudtotheWFMAdapterAPI.\\n4 WFMAdapterReportingclient SendsRTAstatustotheWFMRTA.\\nSendshistoricalreportstotheNICEenvironment.\\nVerintpremise\\nWFMAdapter-ProductOverviewGuideforGenesysCloud\\n16'),\n",
       " Document(metadata={'producer': 'madbuild', 'creator': 'PyPDF', 'creationdate': '2024-10-21T10:38:45-05:00', 'moddate': '2024-10-21T10:38:45-05:00', 'title': 'WFM Adapter for Genesys Cloud - Product Overview Guide', 'author': '', 'subject': '', 'keywords': '', 'source': 'data\\\\WFM\\\\GC\\\\WFMAdapter_GCProductOverview.pdf', 'total_pages': 21, 'page': 16, 'page_label': '17'}, page_content='Item Component Description\\n1 WFMAdapterwebuserinterface AccessestheWFMAdapterwebresourcefilestoconfigureadaptersettings.\\n2 WFMAdapterAPI CollectsinformationfromGenesysCloudandsendsRTAandhistoricalfeedstotheReportingClient.\\n3 WFMAdapterGenesysCloudapp ThepackagesendsdatafromGenesysCloudtotheWFMAdapterAPI.\\n4 WFMAdapterReportingclient\\nSendsRTAstatustotheWFMRTA.\\nSendshistoricalreportstooneormorelocationsspecifiedbythecustomer(items6-10).\\n5 WFMRTA ReceivesandprocessesRTAstates.\\n6 Localfolder (Optional)ReportscanbesenttoafolderlocaltotheinstalledReportingclient.\\n7 FTP (Optional)HistoricalReportscanbesenttoanFTPserver.\\n8 FTPS (Optional)HistoricalReportscanbesenttoanFTPSserver.\\n9 AmazonS3 (Optional)HistoricalReportscanbesenttoanAmazonS3bucket.\\n10 SFTP (Optional)HistoricalReportscanbesenttoanSFTPserver.\\n11 WebDAV (Optional)HistoricalReportscanbesenttoaWebDAVserver.\\n12 WFMHistorical Configuredasrequiredtoretrievereportsfromtheavailableoutputs.\\nVerintcloud\\nItem Component Description\\n1 WFMAdapterwebuserinterface AccessestheWFMAdapterwebresourcefilestoconfigureadaptersettings.\\n2 WFMAdapterAPI CollectsinformationfromGenesysCloudandsendsRTAandhistoricalfeedstotheReportingClient.\\n3 WFM\\xa0AdapterGenesysCloudapp ThepackagesendsdatafromGenesysCloudtotheWFMAdapterAPI.\\n4 WFMAdapterReportingclient SendsRTAstatustotheWFMRTA.\\nWFMAdapter-ProductOverviewGuideforGenesysCloud\\n17'),\n",
       " Document(metadata={'producer': 'madbuild', 'creator': 'PyPDF', 'creationdate': '2024-10-21T10:38:45-05:00', 'moddate': '2024-10-21T10:38:45-05:00', 'title': 'WFM Adapter for Genesys Cloud - Product Overview Guide', 'author': '', 'subject': '', 'keywords': '', 'source': 'data\\\\WFM\\\\GC\\\\WFMAdapter_GCProductOverview.pdf', 'total_pages': 21, 'page': 17, 'page_label': '18'}, page_content='Item Component Description\\nSendshistoricalreportstooneormorelocationsspecifiedbythecustomer(items6-10).\\n5 WFMRTA ReceivesandprocessesRTAstates.\\n6 Localfolder (Optional)ReportscanbesenttoafolderlocaltotheinstalledReportingclient.\\n7 FTP (Optional)HistoricalReportscanbesenttoanSFTPserver.\\n8 FTPS (Optional)HistoricalReportscanbesenttoanFTPSserver.\\n9 AmazonS3 (Optional)HistoricalReportscanbesenttoanAmazonS3bucket.\\n10 WebDAV (Optional)HistoricalReportscanbesenttoaWebDAVserver.\\n11 WFMHistorical Configuredasrequiredtoretrievereportsfromtheavailableoutputs.\\n4.2.2WFMAdapterURLstoallow\\nThefollowingURLsareusedtosendandreceivedatafromtheWFMAdapter.Toavoidfirewall\\nbarriers,addtheURLstothenetworkallowlist.\\nRegion Description URL\\nAllregions GenesysCloudinstaller https://wfm-purecloud.ariacec.com/pureCloud.html\\nAsiaPacific\\nWFMAdapterUserInterface https://wfm-ap.ariacec.com\\nWFMAdapterAPI https://wfm-api-ap.ariacec.com\\nAmazonCognitoIdentityProvider https://cognito-idp.ap-southeast-2.amazonaws.com\\nWFMAdapterAuthentication https://wfm-auth-ap.ariacec.com\\nCanada\\nWFMAdapterUserInterface https://wfm-ca.ariacec.com\\nWFMAdapterAPI https://wfm-api-ca.ariacec.com\\nAmazonCognitoIdentityProvider https://cognito-idp.ca-central-1.amazonaws.com\\nWFMAdapterAuthentication https://wfm-auth-ca.ariacec.com\\nEurope\\nWFMAdapterUserInterface https://wfm-eu.ariacec.com\\nWFMAdapterAPI https://wfm-api-eu.ariacec.com\\nAmazonCognitoIdentityProvider https://cognito-idp.eu-west-1.amazonaws.com\\nWFMAdapterAuthentication https://wfm-auth-eu.ariacec.com\\nNorthAmerica\\nWFMAdapterUserInterface https://wfm-na.ariacec.com\\nWFMAdapterAPI https://wfm-api-na.ariacec.com\\nAmazonCognitoIdentityProvider https://cognito-idp.us-east-1.amazonaws.com\\nWFMAdapterAuthentication https://wfm-auth-na.ariacec.com\\n4.2.3WFMAdapterIPstoallow\\nIfrequired,addtheregionalIPtoyournetworkallowlist.\\nImportant:ThisisrequiredforAlvariaVIAenvironmentconfiguration.\\nWFMAdapter-ProductOverviewGuideforGenesysCloud\\n18'),\n",
       " Document(metadata={'producer': 'madbuild', 'creator': 'PyPDF', 'creationdate': '2024-10-21T10:38:45-05:00', 'moddate': '2024-10-21T10:38:45-05:00', 'title': 'WFM Adapter for Genesys Cloud - Product Overview Guide', 'author': '', 'subject': '', 'keywords': '', 'source': 'data\\\\WFM\\\\GC\\\\WFMAdapter_GCProductOverview.pdf', 'total_pages': 21, 'page': 18, 'page_label': '19'}, page_content='Region IP\\nAsiaPacific 52.65.184.190\\nCanada 3.96.111.104\\nEurope 52.212.134.244\\nNorthAmerica 18.213.73.46\\n4.2.4Reportingclientserverports\\nThefollowingfeaturesrequirefirewallaccessthroughtheidentifiedportsfortheWFMAdapter\\nReportingclientapplicationtooperatesuccessfully:\\nDirection To/From Port\\nOutgoing\\nWFMAdapterAPIURL tcp/443\\nFTP tcp/21(default;alsoconfigurable)\\nFTPS tcp/990(default;alsoconfigurable)\\nAmazonS3 tcp/443\\nSFTP tcp/22(default;alsoconfigurable)\\nWebDAV tcp/80ortcp/443Note:tcp/80isnotsecure\\nAlvariaRTA Configurable\\nIncoming NICERTA Configurable\\nIncoming VerintRTA Configurable\\nWFMAdapter-ProductOverviewGuideforGenesysCloud\\n19'),\n",
       " Document(metadata={'producer': 'madbuild', 'creator': 'PyPDF', 'creationdate': '2024-10-21T10:38:45-05:00', 'moddate': '2024-10-21T10:38:45-05:00', 'title': 'WFM Adapter for Genesys Cloud - Product Overview Guide', 'author': '', 'subject': '', 'keywords': '', 'source': 'data\\\\WFM\\\\GC\\\\WFMAdapter_GCProductOverview.pdf', 'total_pages': 21, 'page': 19, 'page_label': '20'}, page_content='5Releaseprocess\\nFrequent,lowimpactreleasesaredonetoprovideaccesstothelatestfeaturesassoonastheyare\\nreleased,typicallyonWednesdays.TheWFMAdapterarchitectureisdesignedtominimizedataloss\\nduringupdates.\\nUpdatestotheWFMAdapteruserinterfaceandreportingclientapplicationaredeliveredseamlessly\\nbuttheRTAfeedmaybeinterruptedforupto10seconds;thehistoricalfeedisnotimpacted.\\nIftherearereportsinprogressofbeinggeneratedatthetimeofthepush,theupdatewillwaitand\\nretryeveryminuteuntilsuccessful.Afteranhourofwaiting,theupdatewillforcearestartoftheclient\\napplicationifrequired.\\nStandardupdatesincludenewfeatures,improvements,andminorbugfixes.Duringimplementation,\\ntheprojectteamcommunicatesnecessaryreleasestothecustomer.Afterprojectimplementation,the\\ncustomerreceivesproductupdatesfromtheSupportandProductManagementteams.\\nl Schedule:AutomaticallyappliedtoallregionsonWednesdaysat2pmMST.\\nl Announcement:Thereleaseannouncementissenttocustomersassoonastheupdateiscomplete.\\nIfanupdaterequiresyoutochangeconfigurationintheUIorWFM,orchangeshowametricis\\nreported,wesendanannouncementatleast1weekpriortotheupdate.\\nHotfixesareurgentbugfixes.Duringimplementation,theprojectteamcommunicatesnecessary\\nreleasestothecustomer.Afterprojectimplementation,thecustomerreceivesproductupdatesfrom\\ntheSupportandProductManagementteams.\\nl Schedule:Deployedwhenitisready.Thedeploymentschedulecanbeoutsideofthestandard\\nupdateschedule.\\nl Announcement:Thereleaseannouncementissenttocustomersassoonastheupdateiscomplete.\\nVersioning:Releasesareversionedbydate.\\nWFMAdapter-ProductOverviewGuideforGenesysCloud\\n20'),\n",
       " Document(metadata={'producer': 'madbuild', 'creator': 'PyPDF', 'creationdate': '2024-10-21T10:38:45-05:00', 'moddate': '2024-10-21T10:38:45-05:00', 'title': 'WFM Adapter for Genesys Cloud - Product Overview Guide', 'author': '', 'subject': '', 'keywords': '', 'source': 'data\\\\WFM\\\\GC\\\\WFMAdapter_GCProductOverview.pdf', 'total_pages': 21, 'page': 20, 'page_label': '21'}, page_content='6Frequentlyaskedquestions\\n6.1Howistheconcurrentornamedusagecalculated?\\nInaconcurrentlicensingmodel,themaximumnumberofconcurrent(simultaneous)usersduringa\\nbillingperiodischarged.AcountisregisteredwhenauserwiththeWFMAdapterpermission(integ-\\nration>ariaWFMApps>view)logsintoGenesysCloud.Usagepeaksshorterthan30minutesinduration\\nareomitted.\\nSeehttps://help.mypurecloud.com/faqs/what-defines-a-billable-concurrent-user-for-genesys-cloud-\\ncontact-center-services/.\\n6.2Doesthereportingclientsupportconnectingthroughaproxy?\\nTheWFMAdapterreportingclientrespectstheproxyconfigurationofthesystemonwhichitisrun.\\nTherearenochangesrequiredtothereportingclienttousethesystemproxy.\\nIfanapplicationspecificproxyserverisrequiredsoreportingclientnetworktrafficisindependentfrom\\ntherestofthesystem,thiscanbeconfiguredinthepostinstallationscriptfileafterthereportingclient\\ninstallationiscomplete.\\nForinformation,seeWFMAdapterConfigurationGuide.\\n6.3HowdoesWFMAdapterblendRTAfeedsfrommultiplesystems?\\nCalabrioONE:Ifagentshandleworkfromtwoplatforms,theRTAfeedsmustbecombinedbefore\\ntheyaresenttotheWFMsystemasanagentcanonlybeassignedtoasingleACDstreaminCalabrio\\nONE.\\nNICE:Ifagentshandleworkfromtwoplatforms,eachsourcecanfeedintotheWFMsystem.Affected\\nagentswillhavetwolinesontheRTAscreen.\\nWFMAdapter-ProductOverviewGuideforGenesysCloud\\n21')]"
      ]
     },
     "execution_count": 630,
     "metadata": {},
     "output_type": "execute_result"
    }
   ],
   "source": [
    "pdfs = read_pdfs('data/WFM/GC')\n",
    "print(\"Number of pages:\",len(pdfs))\n",
    "pdfs"
   ]
  },
  {
   "cell_type": "markdown",
   "metadata": {},
   "source": [
    "### Chunk the pdfs\n",
    "\n",
    "The LLM model can only handle a certain number of tokens at a time. So, we need to chunk the PDFs into smaller parts.\n",
    "This can be done by splitting the PDFs into smaller parts based on the number of tokens.\n",
    "Langchain provides a function to split the text into smaller parts based on the number of tokens.\n",
    "\n",
    "https://python.langchain.com/docs/modules/data_connection/document_transformers/recursive_text_splitter"
   ]
  },
  {
   "cell_type": "code",
   "execution_count": 631,
   "metadata": {},
   "outputs": [],
   "source": [
    "def chunk_documents(documents, chunk_size=500, chunk_overlap=0):\n",
    "    splitter = RecursiveCharacterTextSplitter(chunk_size=chunk_size, chunk_overlap=chunk_overlap)\n",
    "    chunks = splitter.split_documents(documents)\n",
    "    return chunks"
   ]
  },
  {
   "cell_type": "code",
   "execution_count": 632,
   "metadata": {},
   "outputs": [
    {
     "data": {
      "text/plain": [
       "<function __main__.chunk_documents(documents, chunk_size=500, chunk_overlap=0)>"
      ]
     },
     "execution_count": 632,
     "metadata": {},
     "output_type": "execute_result"
    }
   ],
   "source": [
    "chunked_pdfs = chunk_documents(documents=pdfs)\n",
    "# chunked_pdfs = chunk_documents(documents=web_pages)  # Use the web pages instead of PDFs\n",
    "chunk_documents"
   ]
  },
  {
   "cell_type": "markdown",
   "metadata": {},
   "source": [
    "### Create vector embeddings\n",
    "\n",
    "Vector embeddings are created as the LLM model cannot directly work with other data. The data is converted into vector embeddings using the LLM model. These embeddings are then stored in the Pinecone database."
   ]
  },
  {
   "cell_type": "code",
   "execution_count": null,
   "metadata": {},
   "outputs": [],
   "source": [
    "os.environ[\"COHERE_API_KEY\"] = \"COHERE_API_KEY\""
   ]
  },
  {
   "cell_type": "code",
   "execution_count": 634,
   "metadata": {},
   "outputs": [],
   "source": [
    "embeds = CohereEmbeddings(\n",
    "    cohere_api_key=os.getenv(\"COHERE_API_KEY\"),\n",
    "    model=\"embed-english-v3.0\"\n",
    ")"
   ]
  },
  {
   "cell_type": "code",
   "execution_count": 635,
   "metadata": {},
   "outputs": [],
   "source": [
    "from langchain.vectorstores import FAISS\n",
    "docsearch = FAISS.from_documents(chunked_pdfs, embeds)\n"
   ]
  },
  {
   "cell_type": "code",
   "execution_count": 636,
   "metadata": {},
   "outputs": [],
   "source": [
    "retriever = docsearch.as_retriever()"
   ]
  },
  {
   "cell_type": "markdown",
   "metadata": {},
   "source": [
    "### Creating Prompt Template\n",
    "\n",
    "Create a prompt template that can be used to query the Qdrant database. This template can be used to query the database and get the relevant information."
   ]
  },
  {
   "cell_type": "code",
   "execution_count": 637,
   "metadata": {},
   "outputs": [],
   "source": [
    "from langchain.prompts import PromptTemplate\n",
    "prompt_template = \"\"\"Text: {context}\n",
    "\n",
    "Question: {question}\n",
    "\n",
    "Answer the question based on the PDF Document provided. If the text doesn't contain the answer, reply that the answer is not available.\n",
    "Do Not Hallucinate\"\"\"\n",
    "\n",
    "prompt = PromptTemplate.from_template(prompt_template)"
   ]
  },
  {
   "cell_type": "markdown",
   "metadata": {},
   "source": [
    "### LLM Model\n",
    "\n",
    "The LLM model is used to generate the responses to the queries. The model is loaded and the prompt template is used to query the database and get the relevant information. We will use cohere model"
   ]
  },
  {
   "cell_type": "code",
   "execution_count": 638,
   "metadata": {},
   "outputs": [],
   "source": [
    "from langchain.llms import Cohere\n",
    "\n",
    "llm=Cohere(model=\"command\", temperature=0.9)"
   ]
  },
  {
   "cell_type": "code",
   "execution_count": 639,
   "metadata": {},
   "outputs": [],
   "source": [
    "from langchain_core.runnables import RunnableParallel, RunnablePassthrough\n",
    "from langchain_core.output_parsers import StrOutputParser\n",
    "\n",
    "retrievable = RunnableParallel(\n",
    "    {\n",
    "        \"context\":retriever,\n",
    "        \"question\":RunnablePassthrough()\n",
    "    }\n",
    ")\n",
    "chain = retrievable | prompt | llm | StrOutputParser()"
   ]
  },
  {
   "cell_type": "code",
   "execution_count": 640,
   "metadata": {},
   "outputs": [],
   "source": [
    "question = \"What is WFM adapter\"\n",
    "output = chain.invoke(question)"
   ]
  },
  {
   "cell_type": "code",
   "execution_count": 641,
   "metadata": {},
   "outputs": [
    {
     "data": {
      "text/plain": [
       "' The WFMAdapter is a product that features a web user interface, API accessibility, and a Genesys Cloud app. Its purpose is to collect information from the Genesys Cloud and send RTA and historical feeds to the Reporting Client. '"
      ]
     },
     "execution_count": 641,
     "metadata": {},
     "output_type": "execute_result"
    }
   ],
   "source": [
    "output"
   ]
  }
 ],
 "metadata": {
  "kernelspec": {
   "display_name": "Python 3",
   "language": "python",
   "name": "python3"
  },
  "language_info": {
   "codemirror_mode": {
    "name": "ipython",
    "version": 3
   },
   "file_extension": ".py",
   "mimetype": "text/x-python",
   "name": "python",
   "nbconvert_exporter": "python",
   "pygments_lexer": "ipython3",
   "version": "3.13.2"
  }
 },
 "nbformat": 4,
 "nbformat_minor": 2
}
